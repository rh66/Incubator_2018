{
 "cells": [
  {
   "cell_type": "markdown",
   "metadata": {},
   "source": [
    "### First peek into NSF grant information, year 2017 and 1997\n",
    "** Original data format is XML **"
   ]
  },
  {
   "cell_type": "code",
   "execution_count": 2,
   "metadata": {},
   "outputs": [],
   "source": [
    "import pandas as pd\n",
    "import xml.etree.ElementTree as ET\n",
    "import matplotlib.pyplot as plt "
   ]
  },
  {
   "cell_type": "code",
   "execution_count": 3,
   "metadata": {},
   "outputs": [
    {
     "name": "stdout",
     "output_type": "stream",
     "text": [
      "<class 'pandas.core.frame.DataFrame'>\n",
      "RangeIndex: 10675 entries, 0 to 10674\n",
      "Columns: 124 entries, ARRAAmount to ProgramReference-Text-9\n",
      "dtypes: object(124)\n",
      "memory usage: 10.1+ MB\n",
      "None\n"
     ]
    }
   ],
   "source": [
    "def nameSearch(name, alist):\n",
    "    # in mxl file, there are repeating of entries with same name, such as \"FirstName\"\n",
    "    # adding sequential numbers for column names\n",
    "    n = 2\n",
    "    newname = name + '-' + str(n)\n",
    "    for i in range(len(alist)):\n",
    "        if newname in alist:\n",
    "            n += 1\n",
    "            newname = name + '-'+ str(n)\n",
    "        else:\n",
    "            break\n",
    "    return n\n",
    "        \n",
    "\n",
    "def eachgrant(xmlfile):\n",
    "    # parse xml file into 2 list, one for tags, one for text fields\n",
    "    f = open(xmlfile)\n",
    "    tree = ET.parse(f)\n",
    "    f.close()\n",
    "    root = tree.getroot()\n",
    "    column = []\n",
    "    value = []\n",
    "    for children in root:\n",
    "        for child in children:\n",
    "            if len(child)==0:\n",
    "                if child.tag in column:\n",
    "                    n = nameSearch(child.tag, column)\n",
    "                    column.append(child.tag + '-' + str(n))\n",
    "                else:\n",
    "                    column.append(child.tag)\n",
    "                value.append(child.text)\n",
    "            else:\n",
    "                for kid in child:\n",
    "                    if len(kid)==0:\n",
    "                        tag = child.tag + '-' + kid.tag\n",
    "                        if tag in column:\n",
    "                            n = nameSearch(tag, column)\n",
    "                            column.append(tag + '-' + str(n))\n",
    "                        else:\n",
    "                            column.append(tag)\n",
    "                        value.append(kid.text)\n",
    "                    else:\n",
    "                        for grandkid in kid:\n",
    "                            tag = kid.tag + '-' + grandkid.tag\n",
    "                            if tag in column:\n",
    "                                n = nameSearch(tag, column)\n",
    "                                column.append(tag + '-' + str(n))\n",
    "                            else:\n",
    "                                column.append(tag)\n",
    "                            value.append(grandkid.text)\n",
    "    return column, value\n",
    "\n",
    "\n",
    "from os import listdir\n",
    "from os.path import isfile, join\n",
    "\n",
    "# create dataframe for 2017 data\n",
    "mypath = 'C:/Users/huang/Documents/dataScience/Incubator/NFS/2017'\n",
    "onlyfiles = [f for f in listdir(mypath) if isfile(join(mypath, f))]\n",
    "grant2017 = pd.DataFrame()\n",
    "for f in onlyfiles:\n",
    "    f = join(mypath, f)\n",
    "    try:\n",
    "        column, value = eachgrant(f)\n",
    "        agrant = pd.DataFrame([value], columns=column)\n",
    "        grant2017 = grant2017.append(agrant)\n",
    "    except Exception:\n",
    "        pass   \n",
    "grant2017 = grant2017.reset_index(drop=True)\n",
    "print(grant2017.info())"
   ]
  },
  {
   "cell_type": "markdown",
   "metadata": {},
   "source": [
    "**check column names to see what's in the file**"
   ]
  },
  {
   "cell_type": "code",
   "execution_count": 4,
   "metadata": {},
   "outputs": [
    {
     "name": "stdout",
     "output_type": "stream",
     "text": [
      "['ARRAAmount' 'AbstractNarration' 'AwardAmount' 'AwardEffectiveDate'\n",
      " 'AwardExpirationDate' 'AwardID' 'AwardInstrument-Value' 'AwardTitle'\n",
      " 'Directorate-LongName' 'Division-LongName' 'Institution-CityName'\n",
      " 'Institution-CountryName' 'Institution-Name' 'Institution-PhoneNumber'\n",
      " 'Institution-StateCode' 'Institution-StateName'\n",
      " 'Institution-StreetAddress' 'Institution-ZipCode'\n",
      " 'Investigator-EmailAddress' 'Investigator-EmailAddress-2'\n",
      " 'Investigator-EmailAddress-3' 'Investigator-EmailAddress-4'\n",
      " 'Investigator-EmailAddress-5' 'Investigator-EmailAddress-6'\n",
      " 'Investigator-EmailAddress-7' 'Investigator-EmailAddress-8'\n",
      " 'Investigator-EndDate' 'Investigator-EndDate-2' 'Investigator-EndDate-3'\n",
      " 'Investigator-EndDate-4' 'Investigator-EndDate-5'\n",
      " 'Investigator-EndDate-6' 'Investigator-EndDate-7'\n",
      " 'Investigator-EndDate-8' 'Investigator-FirstName'\n",
      " 'Investigator-FirstName-2' 'Investigator-FirstName-3'\n",
      " 'Investigator-FirstName-4' 'Investigator-FirstName-5'\n",
      " 'Investigator-FirstName-6' 'Investigator-FirstName-7'\n",
      " 'Investigator-FirstName-8' 'Investigator-LastName'\n",
      " 'Investigator-LastName-2' 'Investigator-LastName-3'\n",
      " 'Investigator-LastName-4' 'Investigator-LastName-5'\n",
      " 'Investigator-LastName-6' 'Investigator-LastName-7'\n",
      " 'Investigator-LastName-8' 'Investigator-RoleCode'\n",
      " 'Investigator-RoleCode-2' 'Investigator-RoleCode-3'\n",
      " 'Investigator-RoleCode-4' 'Investigator-RoleCode-5'\n",
      " 'Investigator-RoleCode-6' 'Investigator-RoleCode-7'\n",
      " 'Investigator-RoleCode-8' 'Investigator-StartDate'\n",
      " 'Investigator-StartDate-2' 'Investigator-StartDate-3'\n",
      " 'Investigator-StartDate-4' 'Investigator-StartDate-5'\n",
      " 'Investigator-StartDate-6' 'Investigator-StartDate-7'\n",
      " 'Investigator-StartDate-8' 'MaxAmdLetterDate' 'MinAmdLetterDate'\n",
      " 'Organization-Code' 'ProgramElement-Code' 'ProgramElement-Code-10'\n",
      " 'ProgramElement-Code-11' 'ProgramElement-Code-12'\n",
      " 'ProgramElement-Code-13' 'ProgramElement-Code-2' 'ProgramElement-Code-3'\n",
      " 'ProgramElement-Code-4' 'ProgramElement-Code-5' 'ProgramElement-Code-6'\n",
      " 'ProgramElement-Code-7' 'ProgramElement-Code-8' 'ProgramElement-Code-9'\n",
      " 'ProgramElement-Text' 'ProgramElement-Text-10' 'ProgramElement-Text-11'\n",
      " 'ProgramElement-Text-12' 'ProgramElement-Text-13' 'ProgramElement-Text-2'\n",
      " 'ProgramElement-Text-3' 'ProgramElement-Text-4' 'ProgramElement-Text-5'\n",
      " 'ProgramElement-Text-6' 'ProgramElement-Text-7' 'ProgramElement-Text-8'\n",
      " 'ProgramElement-Text-9' 'ProgramOfficer-SignBlockName'\n",
      " 'ProgramReference-Code' 'ProgramReference-Code-10'\n",
      " 'ProgramReference-Code-11' 'ProgramReference-Code-12'\n",
      " 'ProgramReference-Code-13' 'ProgramReference-Code-14'\n",
      " 'ProgramReference-Code-2' 'ProgramReference-Code-3'\n",
      " 'ProgramReference-Code-4' 'ProgramReference-Code-5'\n",
      " 'ProgramReference-Code-6' 'ProgramReference-Code-7'\n",
      " 'ProgramReference-Code-8' 'ProgramReference-Code-9'\n",
      " 'ProgramReference-Text' 'ProgramReference-Text-10'\n",
      " 'ProgramReference-Text-11' 'ProgramReference-Text-12'\n",
      " 'ProgramReference-Text-13' 'ProgramReference-Text-14'\n",
      " 'ProgramReference-Text-2' 'ProgramReference-Text-3'\n",
      " 'ProgramReference-Text-4' 'ProgramReference-Text-5'\n",
      " 'ProgramReference-Text-6' 'ProgramReference-Text-7'\n",
      " 'ProgramReference-Text-8' 'ProgramReference-Text-9']\n"
     ]
    }
   ],
   "source": [
    "print(grant2017.columns.values)"
   ]
  },
  {
   "cell_type": "markdown",
   "metadata": {},
   "source": [
    "**load year 1997 data:** "
   ]
  },
  {
   "cell_type": "code",
   "execution_count": 6,
   "metadata": {},
   "outputs": [],
   "source": [
    "# create dataframe for 1997 data\n",
    "mypath = 'C:/Users/huang/Documents/dataScience/Incubator/NFS/1997'\n",
    "onlyfiles = [f for f in listdir(mypath) if isfile(join(mypath, f))]\n",
    "grant1997 = pd.DataFrame()\n",
    "for f in onlyfiles:\n",
    "    f = join(mypath, f)\n",
    "    try:\n",
    "        column, value = eachgrant(f)\n",
    "        agrant = pd.DataFrame([value], columns=column)\n",
    "        grant1997 = grant1997.append(agrant)\n",
    "    except Exception:\n",
    "        pass\n",
    "grant1997 = grant1997.reset_index(drop=True) "
   ]
  },
  {
   "cell_type": "code",
   "execution_count": 7,
   "metadata": {},
   "outputs": [
    {
     "name": "stdout",
     "output_type": "stream",
     "text": [
      "<class 'pandas.core.frame.DataFrame'>\n",
      "RangeIndex: 10205 entries, 0 to 10204\n",
      "Columns: 360 entries, ARRAAmount to ProgramReference-Text-9\n",
      "dtypes: object(360)\n",
      "memory usage: 28.0+ MB\n",
      "None\n"
     ]
    }
   ],
   "source": [
    "print(grant1997.info())"
   ]
  },
  {
   "cell_type": "code",
   "execution_count": 8,
   "metadata": {},
   "outputs": [],
   "source": [
    "%matplotlib inline\n",
    "import matplotlib.pyplot as plt"
   ]
  },
  {
   "cell_type": "markdown",
   "metadata": {},
   "source": [
    "**Comapre the statistics of the 'AwardAmount' in these two years :**"
   ]
  },
  {
   "cell_type": "code",
   "execution_count": 9,
   "metadata": {},
   "outputs": [
    {
     "data": {
      "text/plain": [
       "<matplotlib.axes._subplots.AxesSubplot at 0x1b233cd5588>"
      ]
     },
     "execution_count": 9,
     "metadata": {},
     "output_type": "execute_result"
    },
    {
     "data": {
      "image/png": "[encoded data removed]",
      "text/plain": [
       "<matplotlib.figure.Figure at 0x1b233cd9fd0>"
      ]
     },
     "metadata": {},
     "output_type": "display_data"
    }
   ],
   "source": [
    "# for first peek, extract award amounts in this two years to compare:\n",
    "combine1 = pd.DataFrame(columns = ['year', 'Amount'])\n",
    "combine1['Amount'] = grant1997['AwardAmount']\n",
    "combine1['year'] = 1997.0\n",
    "combine1['Amount'] = pd.to_numeric(combine1['Amount'], errors='coerce')\n",
    "combine1 = combine1.dropna()\n",
    "\n",
    "combine2 = pd.DataFrame(columns = ['year', 'Amount'])\n",
    "combine2['Amount'] = pd.to_numeric(grant2017['AwardAmount'], errors='coerce')\n",
    "combine2['year'] = 2007.0\n",
    "combine2 = combine2.dropna()\n",
    "combine2 = combine2.reset_index(drop=True)\n",
    "\n",
    "combine3 = combine1.append(combine2)\n",
    "combine3 =combine3.reset_index(drop=True)\n",
    "pd.to_numeric(combine1['Amount'], errors='coerce')\n",
    "combine3.boxplot(column='Amount', by='year', fontsize=12)"
   ]
  },
  {
   "cell_type": "markdown",
   "metadata": {},
   "source": [
    "**A \"big\" award in 1997! How about replot it without the \"outlier\"?**"
   ]
  },
  {
   "cell_type": "code",
   "execution_count": 11,
   "metadata": {},
   "outputs": [
    {
     "data": {
      "text/plain": [
       "<matplotlib.axes._subplots.AxesSubplot at 0x1b233cd92b0>"
      ]
     },
     "execution_count": 11,
     "metadata": {},
     "output_type": "execute_result"
    },
    {
     "data": {
      "image/png": "[encoded data removed]",
      "text/plain": [
       "<matplotlib.figure.Figure at 0x1b233d01400>"
      ]
     },
     "metadata": {},
     "output_type": "display_data"
    }
   ],
   "source": [
    "combine3 = combine3[combine3[\"Amount\"] < 2e8]\n",
    "combine3.boxplot(column='Amount', by='year', fontsize=12)"
   ]
  },
  {
   "cell_type": "markdown",
   "metadata": {},
   "source": [
    "**Another statistic plot with Matplotlib, better controls on labels**"
   ]
  },
  {
   "cell_type": "code",
   "execution_count": 12,
   "metadata": {},
   "outputs": [
    {
     "data": {
      "image/png": "[encoded data removed]",
      "text/plain": [
       "<matplotlib.figure.Figure at 0x1b233d13f98>"
      ]
     },
     "metadata": {},
     "output_type": "display_data"
    }
   ],
   "source": [
    "# matplotlib can better control text on figures:\n",
    "import matplotlib.pyplot as plt \n",
    "mean1 = combine1['Amount'].mean()\n",
    "mean2 = combine2['Amount'].mean()\n",
    "std1 = combine1['Amount'].std()\n",
    "std2 = combine2['Amount'].std()\n",
    "median1 = combine1['Amount'].median()\n",
    "median2 = combine2['Amount'].median()\n",
    "fig, ax = plt.subplots()\n",
    "ax.plot([1997, 2017], [mean1, mean2], marker='o', c='red')\n",
    "ax.plot([1997, 2017], [std1, std2], marker='s', c='blue')\n",
    "ax.plot([1997, 2017], [median1, median2], marker='x', c='black')\n",
    "ax.legend(['mean', 'std', 'median'], fontsize='12')\n",
    "plt.xlabel('year', fontsize = '12')\n",
    "plt.ylabel('USD', fontsize = '12')\n",
    "plt.xticks([1997, 2017])\n",
    "plt.title('NSF  individual award in 1997, 2017', fontsize='14')\n",
    "plt.show()"
   ]
  },
  {
   "cell_type": "code",
   "execution_count": null,
   "metadata": {},
   "outputs": [],
   "source": []
  }
 ],
 "metadata": {
  "kernelspec": {
   "display_name": "Python 3",
   "language": "python",
   "name": "python3"
  },
  "language_info": {
   "codemirror_mode": {
    "name": "ipython",
    "version": 3
   },
   "file_extension": ".py",
   "mimetype": "text/x-python",
   "name": "python",
   "nbconvert_exporter": "python",
   "pygments_lexer": "ipython3",
   "version": "3.6.4"
  }
 },
 "nbformat": 4,
 "nbformat_minor": 2
}
