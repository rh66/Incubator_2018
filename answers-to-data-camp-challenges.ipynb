{
 "cells": [
  {
   "cell_type": "markdown",
   "metadata": {},
   "source": [
    "# Answers to [Incubator Data Science Camp](https://www.thedataincubator.com/) admission challenge questions\n",
    "Rong Huang <br>\n",
    "2018"
   ]
  },
  {
   "cell_type": "markdown",
   "metadata": {},
   "source": [
    "_________________________\n",
    "<h1> <i> CHALLENGE 1:</i></h1> \n",
    "\n",
    "An ant is on a rectangular n×m grid with southwest-most point (0,0) and northeast-most point (m,n). Starting at (0,0), each time, the ant travels along a path walking north or east by a unit length on the grid with equal probability until it reaches (m,n). Define the deviation D of a path (from the straight path) as $max(x_m$−$y_n$,$y_n$−$x_m)$ for all points (x,y) along the path.\n",
    "_____________________________________\n",
    "<br>\n",
    "#### Q: What is the mean of D when m=11 and n=7? ####"
   ]
  },
  {
   "cell_type": "markdown",
   "metadata": {},
   "source": [
    "#### A: 0.5188941460"
   ]
  },
  {
   "cell_type": "code",
   "execution_count": 1,
   "metadata": {
    "collapsed": true
   },
   "outputs": [],
   "source": [
    "import numpy as np\n",
    "import matplotlib.pyplot as plt\n",
    "from decimal import *\n",
    "import pandas as pd"
   ]
  },
  {
   "cell_type": "code",
   "execution_count": 2,
   "metadata": {},
   "outputs": [
    {
     "name": "stdout",
     "output_type": "stream",
     "text": [
      "total probability should be exactly 1. Check !  1.0\n",
      "mean D:  0.5188941460151176892454657971\n",
      "std error:  0.1817855196893432136857319483\n",
      "conditioned probability:  0.328313996544\n"
     ]
    }
   ],
   "source": [
    "def distance(m, n):\n",
    "    # returns the distance mapping on grids\n",
    "    dist = np.zeros((n+1, m+1))\n",
    "    for y in range(n+1):\n",
    "        for x in range(m+1):\n",
    "            dist[y, x] = abs(Decimal(x)/Decimal(m) - Decimal(y)/Decimal(n))\n",
    "    return dist\n",
    "\n",
    "def next_p(point, m, n):\n",
    "    # this function returns next grid location during ant path search\n",
    "    x = point[1]\n",
    "    y = point[0]\n",
    "    next_pos = []\n",
    "    Npt = 0\n",
    "    if x < m:\n",
    "        next_pos.append((y, x+1))\n",
    "        Npt += 1\n",
    "    if y < n:\n",
    "        next_pos.append((y+1, x))\n",
    "        Npt += 1\n",
    "    return Npt, next_pos\n",
    "\n",
    "def probToPoint(point0, m, n):\n",
    "    # If location \"point0\" is the max_distance, calculate total probability of all \n",
    "    # paths from (0,0) to \"point0\"\n",
    "    dist = distance(m, n)\n",
    "    D0 = dist[point0]\n",
    "    x0 = point0[1]\n",
    "    y0 = point0[0]\n",
    "    probs = np.zeros((n+1, m+1))\n",
    "    probs[0,0] = 1.0\n",
    "    for y in range(y0+1):\n",
    "        for x in range(x0+1):\n",
    "            prob = probs[y,x]\n",
    "            if prob > 0:\n",
    "                Npt, next_pos = next_p((y, x), m, n)\n",
    "                prob_fraction = Decimal(prob)/Decimal(Npt)\n",
    "                for next_point in next_pos:\n",
    "                    if dist[next_point] < D0:\n",
    "                        if (next_point[0] <= y0) & (next_point[1] <= x0):\n",
    "                            probs[next_point] = Decimal(probs[next_point]) + Decimal(prob_fraction)\n",
    "                    elif (next_point[0] == y0) & (next_point[1] == x0):\n",
    "                        probs[next_point] = Decimal(probs[next_point]) + Decimal(prob_fraction)\n",
    "                    elif dist[next_point] == D0:\n",
    "                        # because distances in \"dist\" come in \"pair\"\n",
    "                        probs[next_point] = Decimal(probs[next_point]) + Decimal(0.5)*Decimal(prob_fraction)\n",
    "    return probs[y0, x0]\n",
    "\n",
    "\n",
    "def probTo2D(m, n):\n",
    "    # mapping of \"probToPoint\"\n",
    "    probTo = np.zeros((n+1, m+1))\n",
    "    for y in range(n+1):\n",
    "        for x in range(m+1):\n",
    "            probTo[y, x] = probToPoint((y, x), m, n)\n",
    "    return probTo\n",
    "\n",
    "\n",
    "def probToEnd(point0, m, n):\n",
    "    # If \"point0\" is the Max_D, the probability of the path from (0,0) to end (n, m)\n",
    "    probTo = probTo2D(m, n)\n",
    "    dist = distance(m, n)\n",
    "    D0 = dist[point0]\n",
    "    x0 = point0[1]\n",
    "    y0 = point0[0]\n",
    "    prob_fini = np.zeros((n+1, m+1))\n",
    "    prob_fini[y0, x0] = probTo[y0, x0]  # start with the probability from (0,0) to this point\n",
    "    for y in range(y0, n+1):\n",
    "        for x in range(x0, m+1):\n",
    "            prob = prob_fini[y, x]\n",
    "            if prob > 0:\n",
    "                Npt, next_pos = next_p((y, x), m, n)\n",
    "                if Npt > 0:\n",
    "                    prob_fraction = Decimal(prob)/Decimal(Npt)\n",
    "                    for next_point in next_pos:\n",
    "                        if dist[next_point] < D0:\n",
    "                            prob_fini[next_point] = Decimal(prob_fini[next_point]) + Decimal(prob_fraction)\n",
    "                        elif dist[next_point] == D0:\n",
    "                            # because distances come in \"pair\"\n",
    "                            prob_fini[next_point] = Decimal(prob_fini[next_point]) + Decimal(0.5)*Decimal(prob_fraction)\n",
    "    return prob_fini[n, m]\n",
    "\n",
    "\n",
    "def probability(m, n):\n",
    "    # mapping the probability, cumulative density f, for each grid as max_D point\n",
    "    dist = distance(m, n)\n",
    "    probFini = np.zeros((n+1, m+1))\n",
    "    for y in range(n+1):\n",
    "        for x in range(m+1):\n",
    "            probFini[y, x] = probToEnd((y, x), m, n)\n",
    "        \n",
    "    prob_sum = sum(sum(probFini))  \n",
    "    print(\"total probability should be exactly 1. Check ! \", prob_sum)\n",
    "\n",
    "    mn = (m+1)*(n+1)\n",
    "    ant = pd.DataFrame(index=range(mn), columns=[\"positions\", \"distances\", 'probability'])\n",
    "    for y in range(n+1):\n",
    "        for x in range(m+1):\n",
    "            row_n = y*(m+1) + x\n",
    "            ant.iloc[row_n] = [(y, x), dist[y,x], probFini[y,x]]\n",
    "        \n",
    "    ant = ant.sort_values(by=\"distances\")\n",
    "\n",
    "    Ds = ant['distances'].unique()\n",
    "    Ps = np.zeros(Ds.shape)\n",
    "    Cdfs = np.zeros(Ds.shape)\n",
    "    for i in range(len(Ds)):\n",
    "        Ps[i] = ant[ant[\"distances\"]==Ds[i]][\"probability\"].sum()\n",
    "        if i == 0:\n",
    "            Cdfs[i] = Ps[i]\n",
    "        else:\n",
    "            Cdfs[i] = Cdfs[i-1] + Ps[i]   \n",
    "    return Ds, Ps, Cdfs\n",
    "\n",
    "\n",
    "def meanDecimal(Ds, Ps):\n",
    "    # mean calculated with Decimal for better accuracy, in case needed\n",
    "    value = 0\n",
    "    for i in range(len(Ds)):\n",
    "        value = Decimal(value) + Decimal(Ds[i])*Decimal(Ps[i])\n",
    "    return value\n",
    "\n",
    "\n",
    "def stdDecimal(Ds, Ps):\n",
    "    # std calculated with Decimal for better accuracy, in case needed\n",
    "    meanD = meanDecimal(Ds, Ps)\n",
    "    value = 0.0\n",
    "    for i in range(len(Ds)):\n",
    "        value = Decimal(value) + ((Decimal(Ds[i]) - Decimal(meanD))**Decimal(2)) * Decimal(Ps[i])\n",
    "    value = Decimal(value)**Decimal(0.5)\n",
    "    return value\n",
    "\n",
    "def conditionP(Ps, Ds, Pt, Pt_cond):\n",
    "    # return cumulative Pt, with conditional point Pt_cond\n",
    "    P_cond = Ps[Ds > Pt_cond]\n",
    "    P_t = Ps[Ds > Pt]\n",
    "    Pcond = sum(P_t)/sum(P_cond)\n",
    "    return Pcond\n",
    "\n",
    "    \n",
    "m = 11\n",
    "n = 7\n",
    "Ds, Ps, Cdfs = probability(m, n)\n",
    "meanD = meanDecimal(Ds, Ps)\n",
    "stdD = stdDecimal(Ds, Ps)\n",
    "condP = conditionP(Ps, Ds, 0.6, 0.2)\n",
    "print('mean D: ', meanD)\n",
    "print('std error: ', stdD)\n",
    "print('conditioned probability: ', condP)"
   ]
  },
  {
   "cell_type": "markdown",
   "metadata": {},
   "source": [
    "#### Q: What is the standard deviation of D when m=11 and n=7?"
   ]
  },
  {
   "cell_type": "markdown",
   "metadata": {},
   "source": [
    "#### A: 0.1817855197"
   ]
  },
  {
   "cell_type": "markdown",
   "metadata": {},
   "source": [
    "#### Q: What is the mean of D when m=23 and n=31?"
   ]
  },
  {
   "cell_type": "markdown",
   "metadata": {},
   "source": [
    "#### A: 0.3532883806"
   ]
  },
  {
   "cell_type": "code",
   "execution_count": 3,
   "metadata": {},
   "outputs": [
    {
     "name": "stdout",
     "output_type": "stream",
     "text": [
      "total probability should be exactly 1. Check !  1.0\n",
      "for m=23, n=31: \n",
      "mean D:  0.3532883806846021237832167383\n",
      "std error:  0.1369409723043562710496520315\n",
      "conditioned probability:  0.0631262303718\n"
     ]
    }
   ],
   "source": [
    "m = 23\n",
    "n = 31\n",
    "Ds, Ps, Cdfs = probability(m, n)\n",
    "meanD = meanDecimal(Ds, Ps)\n",
    "stdD = stdDecimal(Ds, Ps)\n",
    "condP = conditionP(Ps, Ds, 0.6, 0.2)\n",
    "print(\"for m=23, n=31: \")\n",
    "print('mean D: ', meanD)\n",
    "print('std error: ', stdD)\n",
    "print('conditioned probability: ', condP) "
   ]
  },
  {
   "cell_type": "markdown",
   "metadata": {},
   "source": [
    "#### Q: What is the standard deviation of D when m=23 and n=31?"
   ]
  },
  {
   "cell_type": "markdown",
   "metadata": {},
   "source": [
    "#### A: 0.1369409723"
   ]
  },
  {
   "cell_type": "markdown",
   "metadata": {},
   "source": [
    "#### Q: What is the conditional probability that D is greater than 0.6 given that it is greater than 0.2 when m=11 and n=7?"
   ]
  },
  {
   "cell_type": "markdown",
   "metadata": {},
   "source": [
    "#### A: 0.3283139965"
   ]
  },
  {
   "cell_type": "markdown",
   "metadata": {},
   "source": [
    "#### Q: What is the conditional probability that D is greater than 0.6 given that it is greater than 0.2 when m=23 and n=31?"
   ]
  },
  {
   "cell_type": "markdown",
   "metadata": {},
   "source": [
    "#### A: 0.0631262304\n",
    "<br>"
   ]
  },
  {
   "cell_type": "markdown",
   "metadata": {},
   "source": [
    "\n",
    "___________________________\n",
    "<h1><i> CHALLENGE 2: </i></h1>\n",
    "___________________________________\n",
    "<br>\n",
    "The Stanford Open Policing Datasets provide information on traffic stops in different states. Please download the csv files for Montana and Vermont. You may also find the README file helpful as you work through the challenge questions. It contains useful information about the dataset, including column descriptions. \n",
    "<br>\n"
   ]
  },
  {
   "cell_type": "markdown",
   "metadata": {},
   "source": [
    "#### Q: What proportion of traffic stops in Montana involved male drivers? In other words, divide the number of traffic stops involving male drivers by the total number of stops."
   ]
  },
  {
   "cell_type": "markdown",
   "metadata": {},
   "source": [
    "#### A: Male ratio:  0.6750723334"
   ]
  },
  {
   "cell_type": "code",
   "execution_count": 5,
   "metadata": {},
   "outputs": [
    {
     "name": "stdout",
     "output_type": "stream",
     "text": [
      "Male ratio:  0.675072333421\n"
     ]
    }
   ],
   "source": [
    "mt = pd.read_csv(\"MT-clean.csv\\MT_cleaned.csv\", engine='python')\n",
    "\n",
    "# MT gender ratio:\n",
    "mt_g = mt[\"driver_gender\"].value_counts()\n",
    "mt_gender = mt_g.values\n",
    "gender_ratio = mt_gender[0]/(mt_gender[0] + mt_gender[1])\n",
    "print('Male ratio: ', gender_ratio)"
   ]
  },
  {
   "cell_type": "markdown",
   "metadata": {},
   "source": [
    "#### Q: How many more times likely are you to be arrested in Montana during a traffic stop if you have out of state plates?"
   ]
  },
  {
   "cell_type": "markdown",
   "metadata": {},
   "source": [
    "#### A: The ratio of likely-arrested between out-of-state and in Montana is: 1.209512935"
   ]
  },
  {
   "cell_type": "code",
   "execution_count": 6,
   "metadata": {},
   "outputs": [
    {
     "name": "stdout",
     "output_type": "stream",
     "text": [
      "arrested ratio:  1.20951293515\n"
     ]
    }
   ],
   "source": [
    "# out of state arrested ratio\n",
    "mt_state = mt[[\"out_of_state\", \"is_arrested\"]].dropna()\n",
    "mt_in = mt_state[mt_state[\"out_of_state\"]==False]\n",
    "mt_out = mt_state[mt_state[\"out_of_state\"]==True]\n",
    "in_stop = len(mt_in)\n",
    "out_stop = len(mt_out)\n",
    "out = mt_out[\"is_arrested\"].value_counts()\n",
    "mtin = mt_in[\"is_arrested\"].value_counts()\n",
    "in_arrest = mtin.loc[True]\n",
    "out_arrest = out.loc[True]\n",
    "arrest_ratio = out_arrest/out_stop/(in_arrest/in_stop)\n",
    "print('arrested ratio: ', arrest_ratio)"
   ]
  },
  {
   "cell_type": "markdown",
   "metadata": {},
   "source": [
    "#### Q: Perform a (χ2) test to determine whether the proportions of arrests in these two populations are equal. What is the value of the test statistic? ####"
   ]
  },
  {
   "cell_type": "markdown",
   "metadata": {},
   "source": [
    "#### A: $\\chi^2$ statistic: 126.2517277"
   ]
  },
  {
   "cell_type": "code",
   "execution_count": 13,
   "metadata": {
    "collapsed": true
   },
   "outputs": [],
   "source": [
    "from scipy.stats import chisquare"
   ]
  },
  {
   "cell_type": "code",
   "execution_count": 8,
   "metadata": {},
   "outputs": [
    {
     "name": "stdout",
     "output_type": "stream",
     "text": [
      "chi_square:  126.25172771\n",
      "scipy chisquare, pvalue:  126.25172771 2.70852435306e-29\n"
     ]
    }
   ],
   "source": [
    "# star to calculate chi-square:\n",
    "total_stop = len(mt_state)\n",
    "total_arrest = in_arrest + out_arrest\n",
    "in_expect = in_stop / total_stop * total_arrest\n",
    "out_expect = out_stop /total_stop * total_arrest\n",
    "chi_square = (in_expect - in_arrest)**2 / in_expect + (out_arrest - out_expect)**2 /out_expect\n",
    "print('chi_square: ', chi_square)\n",
    "\n",
    "# varify chi_square with toolkit:\n",
    "# from scipy.stats import chisquare\n",
    "expected = np.array([in_expect, out_expect])\n",
    "observed = np.array([in_arrest, out_arrest])\n",
    "chisquare, pvalue = chisquare(observed, expected)\n",
    "print('scipy chisquare, pvalue: ', chisquare, pvalue)"
   ]
  },
  {
   "cell_type": "markdown",
   "metadata": {},
   "source": [
    "#### Q: What proportion of traffic stops in Montana resulted in speeding violations? In other words, find the number of violations that include \"Speeding\" in the violation description and divide that number by the total number of stops (or rows in the Montana dataset)."
   ]
  },
  {
   "cell_type": "markdown",
   "metadata": {},
   "source": [
    "#### A: 0.6581580399"
   ]
  },
  {
   "cell_type": "code",
   "execution_count": 9,
   "metadata": {},
   "outputs": [
    {
     "name": "stdout",
     "output_type": "stream",
     "text": [
      "speed ratio:  0.6581580398644923\n"
     ]
    }
   ],
   "source": [
    "# speeding violation analysis\n",
    "mt_speed = mt[['violation_raw', 'violation']].dropna()\n",
    "mt_speed['violation_search'] = mt_speed['violation'].apply(lambda x: x.lower().find('speeding'))\n",
    "violation_yes = len(mt_speed[mt_speed['violation_search'] > -1])\n",
    "speed_ratio = violation_yes/len(mt_speed)\n",
    "print('speed ratio: ', speed_ratio)"
   ]
  },
  {
   "cell_type": "markdown",
   "metadata": {},
   "source": [
    "#### Q: How much more likely does a traffic stop in Montana result in a DUI than a traffic stop in Vermont? To compute the proportion of traffic stops that result in a DUI, divide the number of stops with \"DUI\" in the violation description by the total number of stops."
   ]
  },
  {
   "cell_type": "markdown",
   "metadata": {},
   "source": [
    "#### A: result-in-DUI ratio, 4.054943765"
   ]
  },
  {
   "cell_type": "code",
   "execution_count": 11,
   "metadata": {},
   "outputs": [
    {
     "name": "stdout",
     "output_type": "stream",
     "text": [
      "DUI ratio:  4.054943765214862\n"
     ]
    }
   ],
   "source": [
    "# DUI ratios: \n",
    "mt_violation = mt[[\"violation\"]].dropna()\n",
    "mt_violation['DUI'] = mt_violation['violation'].apply(lambda x: x.find('DUI'))\n",
    "dui_yes = len(mt_violation[mt_violation['DUI'] > -1])\n",
    "\n",
    "vt = pd.read_csv(\"VT-clean.csv\\VT_cleaned.csv\", engine='python')\n",
    "# vt.info()\n",
    "vt_violation = vt[['violation']]\n",
    "vt_violation = vt_violation.dropna()\n",
    "vt_violation['DUI'] = vt_violation['violation'].apply(lambda x: x.find('DUI'))\n",
    "vt_dui_y = len(vt_violation[vt_violation['DUI'] > -1])\n",
    "\n",
    "dui_ratio = dui_yes/len(mt_violation)/(vt_dui_y/len(vt_violation))\n",
    "print('DUI ratio: ', dui_ratio)"
   ]
  },
  {
   "cell_type": "markdown",
   "metadata": {},
   "source": [
    "#### Q: What is the extrapolated, average manufacture year of vehicles involved in traffic stops in Montana in 2020? To answer this question, calculate the average vehicle manufacture year for each year's traffic stops. Extrapolate using a linear regression."
   ]
  },
  {
   "cell_type": "markdown",
   "metadata": {},
   "source": [
    "#### A: 2008.843166"
   ]
  },
  {
   "cell_type": "code",
   "execution_count": 12,
   "metadata": {
    "collapsed": true
   },
   "outputs": [],
   "source": [
    "from sklearn.linear_model import LinearRegression"
   ]
  },
  {
   "cell_type": "code",
   "execution_count": 14,
   "metadata": {},
   "outputs": [
    {
     "name": "stdout",
     "output_type": "stream",
     "text": [
      "mean year in 2020:  [ 2008.84316596]\n"
     ]
    }
   ],
   "source": [
    "# vehicle years:\n",
    "mt_years = mt[['stop_date', 'vehicle_year']].dropna()\n",
    "mt_years['vehicle_year'] = pd.to_numeric(mt_years['vehicle_year'], errors='coerce')\n",
    "mt_years['st_years'] = mt_years['stop_date'].apply(lambda x: int(x[0:4]))\n",
    "mt_years = mt_years.dropna()\n",
    "mt_years = mt_years.sort_values(by=['st_years'])\n",
    "vcyears = mt_years['vehicle_year'].values\n",
    "styears = mt_years['st_years'].values\n",
    "indexYrs = mt_years['st_years'].value_counts(sort=False).index\n",
    "meanYear = []\n",
    "for index1 in indexYrs:\n",
    "    meanYear.append(mt_years[mt_years['st_years']==index1]['vehicle_year'].mean())\n",
    "meanYear = np.array(meanYear)\n",
    "d = np.stack((indexYrs, meanYear), axis=1)\n",
    "\n",
    "train = pd.DataFrame(d, columns=['indexYrs', 'meanYear'])\n",
    "lr = LinearRegression()\n",
    "lr.fit(train[['indexYrs']], train['meanYear'])\n",
    "a1 = lr.coef_\n",
    "a0 = lr.intercept_\n",
    "meanYr2020 = a0 + a1*2020\n",
    "print('mean year in 2020: ', meanYr2020)"
   ]
  },
  {
   "cell_type": "markdown",
   "metadata": {},
   "source": [
    "#### Q: What is the p-value of this linear regression?"
   ]
  },
  {
   "cell_type": "markdown",
   "metadata": {},
   "source": [
    "#### A: 5.609148254e-08"
   ]
  },
  {
   "cell_type": "code",
   "execution_count": 15,
   "metadata": {},
   "outputs": [
    {
     "name": "stdout",
     "output_type": "stream",
     "text": [
      "slope, intercept, p-value:  0.717416899955 559.661028049 5.6091482537e-08\n"
     ]
    }
   ],
   "source": [
    "# p-value of the regression:\n",
    "from scipy import stats\n",
    "slope, intercept, r_value, p_value, std_err = stats.linregress(indexYrs, meanYear)\n",
    "# null hypothesis: slope is zero\n",
    "print('slope, intercept, p-value: ', slope, intercept, p_value)"
   ]
  },
  {
   "cell_type": "markdown",
   "metadata": {},
   "source": [
    "#### Q: Combining both the Vermont and Montana datasets, find the hours when the most and least number of traffic stops occurred. What is the difference in the total number of stops that occurred in these two hours? Hours range from 00 to 23. Round stop times down to compute this difference."
   ]
  },
  {
   "cell_type": "markdown",
   "metadata": {},
   "source": [
    "#### A: hourly maximum difference:  95344"
   ]
  },
  {
   "cell_type": "code",
   "execution_count": 16,
   "metadata": {},
   "outputs": [
    {
     "name": "stdout",
     "output_type": "stream",
     "text": [
      "hourly maximum difference:  95344\n"
     ]
    }
   ],
   "source": [
    "# start to calculate the difference between hours\n",
    "time1 = mt['stop_time']\n",
    "time1= time1.dropna()\n",
    "time = time1.apply(lambda x: int(x[:2]))\n",
    "time1_hrs = time.value_counts()\n",
    "\n",
    "time2 = vt['stop_time'].dropna()\n",
    "time = time2.apply(lambda x: int(x[:2]))\n",
    "time2_hrs = time.value_counts()\n",
    "\n",
    "for i in time1_hrs.index:\n",
    "    time1_hrs.loc[i] = time1_hrs.loc[i] + time2_hrs.loc[i]\n",
    "diff = max(time1_hrs.values) - min(time1_hrs.values)\n",
    "print('hourly maximum difference: ', diff)"
   ]
  },
  {
   "cell_type": "markdown",
   "metadata": {},
   "source": [
    "#### Q: We can use the traffic stop locations to estimate the areas of the counties in Montana. Represent each county as an ellipse with semi-axes given by a single standard deviation of the longitude and latitude of stops within that county. What is the area, in square kilometers, of the largest county measured in this manner? Please ignore unrealistic latitude and longitude coordinates."
   ]
  },
  {
   "cell_type": "markdown",
   "metadata": {},
   "source": [
    "#### A: Area of largest county, in squere km, 10.88634534, Lincoln County"
   ]
  },
  {
   "cell_type": "code",
   "execution_count": 17,
   "metadata": {},
   "outputs": [
    {
     "name": "stdout",
     "output_type": "stream",
     "text": [
      "max size, county name:  10.8863453382 Lincoln County\n"
     ]
    }
   ],
   "source": [
    "# county area estimation, earth radius = 6371 km:\n",
    "mt_loc = mt[['county_name', 'lon', 'lat']]\n",
    "mt_loc = mt_loc.dropna()\n",
    "\n",
    "mt_loc = mt_loc[(mt_loc['lon'] > -116.3) & (mt_loc['lon'] < -104.0)]\n",
    "mt_loc = mt_loc[(mt_loc['lat'] > 44.3) & (mt_loc['lat'] < 49)]\n",
    "\n",
    "ct_names = mt_loc.county_name.unique()\n",
    "area = {}\n",
    "max_size = 0\n",
    "for name in ct_names:\n",
    "    mt_ct = mt_loc[mt_loc['county_name'] == name]\n",
    "    errors = mt_ct.std()\n",
    "    size = errors.loc['lon'] * errors.loc['lat'] * 6.371**2 * np.pi\n",
    "    if size > max_size:\n",
    "        max_size = size\n",
    "        max_name = name\n",
    "    area[name] = name\n",
    "print('max size, county name: ', max_size, max_name)"
   ]
  }
 ],
 "metadata": {
  "kernelspec": {
   "display_name": "Python 3",
   "language": "python",
   "name": "python3"
  },
  "language_info": {
   "codemirror_mode": {
    "name": "ipython",
    "version": 3
   },
   "file_extension": ".py",
   "mimetype": "text/x-python",
   "name": "python",
   "nbconvert_exporter": "python",
   "pygments_lexer": "ipython3",
   "version": "3.5.4"
  }
 },
 "nbformat": 4,
 "nbformat_minor": 2
}
